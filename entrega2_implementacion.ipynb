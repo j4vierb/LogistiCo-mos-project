{
 "cells": [
  {
   "cell_type": "markdown",
   "id": "b1b1b4f5-2f59-448b-aeb3-2329d0fd576e",
   "metadata": {},
   "source": [
    "# Proyecto A: Optimización en la Planeación de Transporte Vehicular Urbana Para LogistiCo"
   ]
  },
  {
   "cell_type": "markdown",
   "id": "6baf2fe2-46bf-4d7b-a9b7-1404ca72a654",
   "metadata": {},
   "source": [
    "## Integrantes\n",
    "\n",
    "- Barrera Toro, Javier Steven\n",
    "- Rolon Toloza, Julian Santiago"
   ]
  },
  {
   "cell_type": "markdown",
   "id": "3e32f657-49ed-40af-9fc5-0f0b35fd05a2",
   "metadata": {},
   "source": [
    "# Implementación del modelo matemático"
   ]
  },
  {
   "cell_type": "markdown",
   "id": "b1775a2a-b5bb-41ea-83ae-ca983ac30ebd",
   "metadata": {},
   "source": [
    "# Procesamiento de datos"
   ]
  },
  {
   "cell_type": "markdown",
   "id": "d760a843-07e9-47ce-85b2-fb239613f8a3",
   "metadata": {},
   "source": [
    "# Casos"
   ]
  },
  {
   "cell_type": "markdown",
   "id": "f561e5bf-63de-4f75-a903-d9e31f54a515",
   "metadata": {},
   "source": [
    "## Caso base"
   ]
  },
  {
   "cell_type": "markdown",
   "id": "30284a0f-e44b-4369-8307-bede5574bd2a",
   "metadata": {},
   "source": [
    "## Caso a"
   ]
  },
  {
   "cell_type": "markdown",
   "id": "de614348-2571-48bf-a031-3613b6ea7d4e",
   "metadata": {},
   "source": [
    "## Caso b"
   ]
  },
  {
   "cell_type": "markdown",
   "id": "045a347f-e60d-4bfd-b865-d4b2da53f195",
   "metadata": {},
   "source": [
    "# Análisis de resultados y visualizaciones"
   ]
  }
 ],
 "metadata": {
  "kernelspec": {
   "display_name": "Python 3 (ipykernel)",
   "language": "python",
   "name": "python3"
  },
  "language_info": {
   "codemirror_mode": {
    "name": "ipython",
    "version": 3
   },
   "file_extension": ".py",
   "mimetype": "text/x-python",
   "name": "python",
   "nbconvert_exporter": "python",
   "pygments_lexer": "ipython3",
   "version": "3.9.21"
  }
 },
 "nbformat": 4,
 "nbformat_minor": 5
}
