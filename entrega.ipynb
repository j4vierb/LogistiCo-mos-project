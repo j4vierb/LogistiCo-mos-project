{
 "cells": [
  {
   "cell_type": "markdown",
   "id": "ngjQ1Z2vjgJs",
   "metadata": {
    "id": "ngjQ1Z2vjgJs"
   },
   "source": [
    "# Proyecto A: Optimización en la Planeación de Transporte Vehicular Urbana Para LogistiCo"
   ]
  },
  {
   "cell_type": "markdown",
   "id": "N9xd3qVYjoTW",
   "metadata": {
    "id": "N9xd3qVYjoTW"
   },
   "source": [
    "## Integrantes\n",
    "\n",
    "- Barrera Toro, Javier Steven\n",
    "- Borbon Holguin, Luis Alfredo\n",
    "- Rolon Toloza, Julian Santiago"
   ]
  },
  {
   "cell_type": "markdown",
   "id": "_UxEuEHAjiTh",
   "metadata": {
    "id": "_UxEuEHAjiTh"
   },
   "source": [
    "## 1.  Formulación Matemática del Modelo"
   ]
  },
  {
   "cell_type": "markdown",
   "id": "LmsPTW6Ljyu8",
   "metadata": {
    "id": "LmsPTW6Ljyu8"
   },
   "source": [
    "### 1.1. Definición de Conjuntos"
   ]
  },
  {
   "cell_type": "markdown",
   "id": "VjHPht6oj_yY",
   "metadata": {
    "id": "VjHPht6oj_yY"
   },
   "source": [
    "- D: Conjunto de centros de distribución:\n",
    "$$D = \\{D1, D2, D3\\}$$\n",
    "\n",
    "- C: Conjunto de zonas de entrega.\n",
    "$$C = \\{C1, C2, C3\\}$$\n",
    "\n",
    "- N Conjunto de todos los nodos.\n",
    "$$N = C \\cup D$$\n",
    "\n",
    "- T: Conjunto de vehículos disponibles.\n",
    "$$ T = \\{T1, T2, T3\\} $$\n",
    "\n",
    "- A: Conjunto de rutas posibles entre nodos, definidos por:\n",
    "$$ A = \\{(i, j) \\in N \\times N | i \\neq j \\} $$\n",
    "\n",
    "Además, para facilitar el recorrido sobre los conjuntos definimos el siguientes indices.\n",
    "\n",
    "- $i, j \\in N$: índices para representar los nodos (clientes y centros de distribución).\n",
    "- $t \\in T$: Índice para los vehículos disponibles."
   ]
  },
  {
   "cell_type": "markdown",
   "id": "1BEO-xfrlEeu",
   "metadata": {
    "id": "1BEO-xfrlEeu"
   },
   "source": [
    "### 1.2. Definición de parametros:"
   ]
  },
  {
   "cell_type": "markdown",
   "id": "e8e71a8e-7e4e-4288-855d-01c39e406478",
   "metadata": {},
   "source": [
    "Los parámetros que se definen para el modelo son los siguientes: \n",
    "\n",
    "- $q_t$: La capacidad máxima de carga del vehículo $t$.\n",
    "- $c_i$: La capacidad máxima del almacenamiento en el centro de distribución $i \\in D$.\n",
    "- $d_i$: Demanda del cliente $i \\in C$.\n",
    "- $a_t$: Automia maxima de cada vehiculo\n",
    "\n",
    "Para las distancias y tiempos entre los nodos se definen los siguientes. \n",
    "- $d_{ij}$: Distancia entre los nodos $i$ y $j$.\n",
    "- $t_{ij}$: Tiempo de viaje entre los nodos $i$ y $j$.\n",
    "\n",
    "En cuanto a los costos:\n",
    "- $c_{ij}$: Costo de transporte entre nodos $i$ y $j$.\n",
    "- $f_t$: Costo de flete por kilómetro de cada vehículo $t$. \n",
    "- $v_t$: Costo por kilómetro del vehículo $t$. "
   ]
  },
  {
   "cell_type": "markdown",
   "id": "09c0b47e-4bc6-494a-925c-634eb1e74de5",
   "metadata": {},
   "source": [
    "**TODO**: Agregar justificación."
   ]
  },
  {
   "cell_type": "markdown",
   "id": "2101d4d8-329c-48eb-bc63-270813e9e73b",
   "metadata": {},
   "source": [
    "https://www.motor.com.co/actualidad/Nueva-alza-en-la-gasolina-en-Colombia-aumento-95-pesos-en-febrero-2025-20250203-0002.html\n",
    "\n",
    "https://cabify.com/co/tarifas/bogota#p-envios"
   ]
  },
  {
   "cell_type": "markdown",
   "id": "7LV7E19GlN44",
   "metadata": {
    "id": "7LV7E19GlN44"
   },
   "source": [
    "Los costos que se asumen constantes durante todo el proceso son los siguientes. \n",
    "\n",
    "- Costo de mantenimiento ($M$): \\$600 por km.\n",
    "- Precio del combustible ($G$): \\$4.145 por km.\n",
    "- Tarifa del servicio ($P$): \\$600 por km\n",
    "- Consumo del combustible: 0,1 litros por km. Lo que significa 0,1 * G = 0,1*$15.000 = 1,500$\n",
    "- Costo total por km = M+G+1.500"
   ]
  },
  {
   "cell_type": "markdown",
   "id": "TtPM40VssgBf",
   "metadata": {
    "id": "TtPM40VssgBf"
   },
   "source": [
    "### 1.3. Variables de decisión y variables:"
   ]
  },
  {
   "cell_type": "markdown",
   "id": "e20eb080-fb45-43c3-9470-445adafe314e",
   "metadata": {},
   "source": [
    "Las variables de decisión que se utilizarán en el modelo son las siguientes. \n",
    "\n",
    "1. $X_{i,j,t}$: Es una matriz binaria que indica si el vehículo $t$ vaija del nodo $i$ al nodo $j$. 1 si el vehículo $t$ recorre el arco de $i$ a $j$, de lo contrario $X_{i,j,t} = 0$.\n",
    "2. $Q_{i,t}$: Cantidad de carga que transporta el vehículo $t$ cuando llega al nodo $i$. Es una variable continua que se mantiene en los límites de capacidad del vehículo. \n",
    "3. $P_{ti}$: Cantidad que no fue llevada del producto $i$ en el transporte $t$.\n",
    "\n",
    "En cuanto a variables auxiliares que serán utiles para el problema se las plantean las siguientes dos.\n",
    "1. $d_{i, t}$: Es la demanda atendida en el nodo $i$ por el vehículo $t$.\n",
    "2. $u_{i, t}$: Orden de visita del nodo $i$ por el vehículo $t$ para eliminar subtours usando MTZ, lo cual garantiza la conectividad del recorrido.\n"
   ]
  },
  {
   "cell_type": "markdown",
   "id": "Pi6fyDz1t6LC",
   "metadata": {
    "id": "Pi6fyDz1t6LC"
   },
   "source": [
    "### 1.4. Restricciones"
   ]
  },
  {
   "cell_type": "markdown",
   "id": "01e5cebe-4f58-43aa-bb67-9105fd999413",
   "metadata": {},
   "source": [
    "1. La restricción de flujo, garantiza que si un vehiculo entra a un nodo también sale del mismo.\n",
    "$$\n",
    "\\sum_{i \\in N} X_{tij} = \\sum_{j \\in N} X_{tji}, \\forall j \\in C, \\forall t\n",
    "$$\n",
    "\n",
    "2. La capacidad del vehículo, garantiza que la cantidad de productos transportados nunca supera la capacidad máxima de carga.\n",
    "$$\n",
    "\\sum_{(i, j) \\in N} d_j X_{tij} \\leq Q_{tij}, \\forall t\n",
    "$$\n",
    "\n",
    "3. Un cliente se atiende exactamente una vez, para simplificar el problema. \n",
    "$$\n",
    "\\sum_{i \\in N} \\sum_{t \\in T} X_{tij} = 1, \\forall j \\in C\n",
    "$$\n",
    "\n",
    "4. Restricción sobre la cantidad transportada a un cliente no supere la demanda.\n",
    "$$\n",
    "Q_{tij} \\leq d_j X_{tij}, \\forall t \\in T, \\forall i \\in N, \\forall j \\in C\n",
    "$$\n",
    "\n",
    "5. La carga transportada por un vehículo no supera la capacidad máxima.\n",
    "$$\n",
    "\\sum_{j \\in C} Q_{tij} \\leq Q_{max} X_{tij}, \\forall t \\in T, \\forall i \\in N\n",
    "$$\n",
    "\n",
    "6. La cantidad entregada a un cliente $j$ sea igua a la demanda requerida $d_j$.\n",
    "$$\n",
    "\\sum_{t \\in T} \\sum_{(i,j) \\in N} Q_{tij} = d_j\n",
    "$$\n",
    "\n",
    "7. Conservación de flujo con las cantidades entregadas en cada uno de los nodos\n",
    "$$\n",
    "\\sum_{j\\in N} Q_{tij} - \\sum_{j \\in N} Q_{tji} = d_i, \\forall t \\in T, \\forall i \\in N \\\\ \\{ 0 \\}\n",
    "$$\n",
    "\n",
    "8. Cada vehículo no puede recorrer más distancia que la permitida por su autonomía máxima\n",
    "$$\n",
    "\\sum_{(i,j) \\in N} d_{ij} X_{tij} \\leq a_{t} , \\forall t \\in T\n",
    "$$\n",
    "\n",
    "\n",
    "9. La cantidad total de productos enviados desde un centro de distribución no puede superar su capacidad\n",
    "$$\n",
    "\\sum_{(i,j) \\in N} Q_{tij} X_{tij} \\leq S_i, \\forall t \\in T\n",
    "$$\n",
    "\n",
    "10. Para evitar ciclos en las rutas de los vehiculos definimos $u_i$ y aplicamos la restricción de Miller-Tucker-Zemlin (MTZ):\n",
    "$$\n",
    "u_i - u_j + |N| X_{tij} \\leq |N| - 1, \\forall (i,j) \\in N\n",
    "$$\n",
    "\n",
    "11. Se agrega una restriccion para la penalizacion cunado no se cumple con la demanda requerida, donde M es un valor muy grande:\n",
    "\n",
    "$$\n",
    "(d_i - \\sum_{(i,j) \\in N} Q_{ijt}) \\leq M*P_{ti}, \\forall t \\in V,\\forall i \\in N \n",
    "$$"
   ]
  },
  {
   "cell_type": "markdown",
   "id": "N_4drXLKUcaD",
   "metadata": {
    "id": "N_4drXLKUcaD"
   },
   "source": [
    "## 2. Función Objetivo y Proceso de indagación"
   ]
  },
  {
   "cell_type": "markdown",
   "id": "kw-XbaenUznm",
   "metadata": {
    "id": "kw-XbaenUznm"
   },
   "source": [
    "Para definir esta función objetivo, se llevó a cabo un análisis relacionado con la optimización de rutas y problemas logísticos. La formulación se diseñó con el objetivo de reducir al máximo los costos de transporte, los cuales están determinados por la distancia que se recorre y los costos operativos como tarifas de flete, mantenimiento y consumo de combustible.\n",
    "El propósito es reducir al mínimo el costo total de transporte. Este costo se calcula teniendo en cuenta el valor por kilómetro recorrido, multiplicado por la distancia total que recorre cada vehículo en los trayectos seleccionados. Adicional, se le suma una penalizacion, cuando no se cumple con la demanda requerida. Por último, se agrego una restriccion para poder controlar el problema de los subtours."
   ]
  },
  {
   "cell_type": "markdown",
   "id": "71c6237e-a58e-4c7a-8be5-5194d29acea7",
   "metadata": {},
   "source": [
    "La función objetivo está definida como:\n",
    "\n",
    "$$\n",
    "\\min\\left(\\sum_{t \\in T} \\sum_{(i,j) \\in N} C_{ij} \\times X_{tij} + Penalizacion \\right)\n",
    "$$"
   ]
  },
  {
   "cell_type": "markdown",
   "id": "1a9076d0-75d3-41b8-9ce1-24edbf152c54",
   "metadata": {},
   "source": [
    "## 3. Preprocesamiento de datos y análisis"
   ]
  },
  {
   "cell_type": "markdown",
   "id": "ab1ac159-589d-4b90-859e-3c43906b3868",
   "metadata": {},
   "source": [
    "**TODO** Convertir los datos de LAT, LONG a tiempo."
   ]
  },
  {
   "cell_type": "markdown",
   "id": "67ddde13-1b66-46ff-a3a5-d020a45aaca6",
   "metadata": {},
   "source": [
    "## 4. Ejemplos ilustrativos"
   ]
  },
  {
   "cell_type": "markdown",
   "id": "13dfc41c-53d8-4f94-9ad7-b13ac4f0e39f",
   "metadata": {},
   "source": [
    "**TODO**: Que se cumplan todas y otro ejemplo en el que una restricción no se cumpla."
   ]
  },
  {
   "cell_type": "markdown",
   "id": "c99f220d-ad90-4700-8d8c-8db1c317aafc",
   "metadata": {},
   "source": [
    "## 5. Justificación y discusión"
   ]
  },
  {
   "cell_type": "markdown",
   "id": "69245230-0459-493e-baa1-d2c60142fd01",
   "metadata": {},
   "source": [
    "**TODO**: Suposiciones que hay que hacer al modelo para simplificarlo. "
   ]
  }
 ],
 "metadata": {
  "colab": {
   "provenance": []
  },
  "kernelspec": {
   "display_name": "Python 3 (ipykernel)",
   "language": "python",
   "name": "python3"
  },
  "language_info": {
   "codemirror_mode": {
    "name": "ipython",
    "version": 3
   },
   "file_extension": ".py",
   "mimetype": "text/x-python",
   "name": "python",
   "nbconvert_exporter": "python",
   "pygments_lexer": "ipython3",
   "version": "3.9.21"
  }
 },
 "nbformat": 4,
 "nbformat_minor": 5
}
