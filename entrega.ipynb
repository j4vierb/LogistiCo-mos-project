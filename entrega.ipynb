{
  "cells": [
    {
      "cell_type": "markdown",
      "source": [
        "Proyecto A: Optimización en la Planeación de Transporte Vehicular Urbana Para LogistiCo"
      ],
      "metadata": {
        "id": "ngjQ1Z2vjgJs"
      },
      "id": "ngjQ1Z2vjgJs"
    },
    {
      "cell_type": "markdown",
      "source": [
        "Barrera Toro, Javier Steven\n",
        "\n",
        "Borbon Holguin, Luis Alfredo\n",
        "\n",
        "Rolon Toloza, Julian Santiago"
      ],
      "metadata": {
        "id": "N9xd3qVYjoTW"
      },
      "id": "N9xd3qVYjoTW"
    },
    {
      "cell_type": "markdown",
      "source": [
        "## 1.  Formulación Matemática del Modelo"
      ],
      "metadata": {
        "id": "_UxEuEHAjiTh"
      },
      "id": "_UxEuEHAjiTh"
    },
    {
      "cell_type": "markdown",
      "source": [
        "1.1. Definición de Conjuntos"
      ],
      "metadata": {
        "id": "LmsPTW6Ljyu8"
      },
      "id": "LmsPTW6Ljyu8"
    },
    {
      "cell_type": "markdown",
      "source": [
        "- C: Conjunto de centros de distribución:\n",
        "\n",
        "C = {C1, C2, C3}\n",
        "- Z: Conjunto de clientes o zonas de entrega.\n",
        "\n",
        "Z = {Z1, Z2, Z3}\n",
        "- N Conjunto de todos los nodos (distribucion y clientes).\n",
        "\n",
        "N = C ∪ Z\n",
        "- T: Conjunto de vehículos disponibles.\n",
        "\n",
        "T = {T1, T2, T3}\n",
        "- R: Conjunto de rutas posibles entre nodos, definidos por:\n",
        "\n",
        "R = {(i, j) ∈ N × N | i ̸= j}"
      ],
      "metadata": {
        "id": "VjHPht6oj_yY"
      },
      "id": "VjHPht6oj_yY"
    },
    {
      "cell_type": "markdown",
      "source": [
        "1.2. Definición de parametros:\n"
      ],
      "metadata": {
        "id": "1BEO-xfrlEeu"
      },
      "id": "1BEO-xfrlEeu"
    },
    {
      "cell_type": "markdown",
      "source": [
        "1. Distancias: Es la distancia en kilometros de los nodos i y j, obteniendola mediante la fórmula cartesiana, de la siguiente forma:\n",
        "distancia_cartesiana(xi, yi, xj, yj).\n",
        "\n",
        "  En donde se puede usar con la siguiente formula:\n",
        "\n",
        "  dij:((xj-xi)^2 + (yj-yi)^2))^1/2\n",
        "\n",
        "2. Demanda sj representa la demanda en unidades del cliente j.\n",
        "\n",
        "sj= 50 si j=Z1\n",
        "sj= 65 si j=Z3\n",
        "sj= 80 si j=Z2\n",
        "sj=0 en los centros de distribucion (Z)\n",
        "3. Stock: Disponibilidad del inventario en el centro de distribucion C.\n",
        "DC1= 20000\n",
        "DC2= 50000\n",
        "DC3=30000\n",
        "4. Capacidad en el trasporte: Corresponde a la capacidad maxima que tienen los vehiculos para transportar unidades.\n",
        "CV1=100\n",
        "CV2=80\n",
        "CV3=150\n",
        "5. Costo: Son valores constantes del problema:\n",
        "- Costo de mantenimiento (M): $700 por km.\n",
        "- Precio del combustible (G): $15.000 por km.\n",
        "- Tarifa del servicio (P): $5.000 por km\n",
        "\n",
        "- Consumo del combustible: 0,1 litros por km. Lo que significa 0,1 * G = 0,1*$15.000 = $1,500\n",
        "- Costo total por km = M+G+1.500\n",
        "\n"
      ],
      "metadata": {
        "id": "7LV7E19GlN44"
      },
      "id": "7LV7E19GlN44"
    },
    {
      "cell_type": "markdown",
      "source": [
        "1.3. Variables de decision:"
      ],
      "metadata": {
        "id": "TtPM40VssgBf"
      },
      "id": "TtPM40VssgBf"
    },
    {
      "cell_type": "markdown",
      "source": [
        "1. Ruta (xtij) : Variable binaria, si vale 1 si el vehículo t ∈ T viaja directamente del nodo i al nodo j, y 0 en caso contrario.\n",
        "2. Cantidad de inventario: Cantidad de unidades transportado por el vehículo t en el arco (i, j).\n",
        "3. Deposito: Variables binarias, en las cuales 1 representa  si el vehículo t inicia en el deposito, y 0 de lo contrario:\n",
        "- Inicio: inicio ∈ {0, 1}\n",
        "- Fin: fin ∈ {0, 1}"
      ],
      "metadata": {
        "id": "er5Pmi8tsi7o"
      },
      "id": "er5Pmi8tsi7o"
    },
    {
      "cell_type": "markdown",
      "source": [
        "1.4. Restricciones"
      ],
      "metadata": {
        "id": "Pi6fyDz1t6LC"
      },
      "id": "Pi6fyDz1t6LC"
    },
    {
      "cell_type": "markdown",
      "source": [
        "1. Visita de los clientes: Se debe garantizar que se visitan a los clientes al menos una vez en recorrido.\n",
        "$$\n",
        "\\sum_{t \\in T} \\sum_{\\substack{i \\in N }} x_{tij} = 1\n",
        "$$\n",
        "\n",
        "2. Flujos en nodos: Se debe garantizar la demanda de las rutas que pasen por los clientes\n",
        "$$\n",
        "\\sum_{\\substack{i \\in N}} f_{tij}\n",
        "- \\sum_{\\substack{k \\in N }} f_{tjk}\n",
        "= s_j \\sum_{\\substack{i \\in N}} x_{tij}\n",
        "$$\n",
        "\n",
        "\n",
        "3. Ruta: La capacidad del inventario en el arco (i, j) no puede superar la capacidad del vehiculo que tiene el recorrido:\n",
        "$$\n",
        "f_{tij} \\leq \\text{capacidad}_t \\, x_{tij}\n",
        "$$\n",
        "\n",
        "4. Demanda operativa: Cantidad de unidades desde el centro de distribucón no puede superar el stock disponible:\n",
        "\n",
        "$$\n",
        "\\sum_{t \\in } \\sum_{\\substack{j \\in N}} f_{tdj} \\leq s_d\n",
        "$$\n",
        "\n",
        "5. Rango: La distancia total recorrida por cada transporte no puede exceder su rango operativo:\n",
        "\n",
        "$$\n",
        "\\sum d_{ij} \\, x_{tij} \\leq r_v\n",
        "$$\n",
        "\n",
        "6. Asignacion de inicio y fin: Cada transporte debe iniciar y terminar su recorrido:\n",
        "$$\n",
        "\\sum_{} \\text{inicio}_{td} \\leq 1 ,\n",
        "\\qquad \\sum_{} \\text{fin}_{td} \\leq 1\n",
        "$$\n",
        "7. Asignacion de dispositivo y ruta: Se debe garantizar que la elección del deposito este vinculada a la ruta:\n",
        "$$\n",
        "\\sum_{\\substack{j \\in N}} x_{tdj} = \\text{inicio}_{td} \\\\\n",
        "\\sum_{\\substack{i \\in N}} x_{vid} = \\text{fin}_{td}\n",
        "$$\n",
        "8. Asignacion de vehiculo y demanda: La demanda total atendida no puede superar su capacidad, y solo si efectivamente inicia su ruta desde algún depósito.\n",
        "$$\n",
        "\\sum_{} s \\left( \\sum_{\\substack{i \\in N}} x_{ti} \\right)\n",
        "\\leq \\text{capacidad}_t \\left( \\sum_{} \\text{inicio}_{td} \\right)\n",
        "$$"
      ],
      "metadata": {
        "id": "yyGj1CyTuF9Y"
      },
      "id": "yyGj1CyTuF9Y"
    },
    {
      "cell_type": "markdown",
      "source": [
        "## 2. Función Objetivo y Proceso de indagación\n",
        ""
      ],
      "metadata": {
        "id": "N_4drXLKUcaD"
      },
      "id": "N_4drXLKUcaD"
    },
    {
      "cell_type": "markdown",
      "source": [
        "Para definir esta función objetivo, se llevó a cabo un análisis relacionado con la optimización de rutas y problemas logísticos. La formulación se diseñó con el objetivo de reducir al máximo los costos de transporte, los cuales están determinados por la distancia que se recorre y los costos operativos como tarifas de flete, mantenimiento y consumo de combustible.\n",
        "El propósito es reducir al mínimo el costo total de transporte. Este costo se calcula teniendo en cuenta el valor por kilómetro recorrido, multiplicado por la distancia total que recorre cada vehículo en los trayectos seleccionados.\n",
        "\n",
        "La función objetivo está definida como:"
      ],
      "metadata": {
        "id": "kw-XbaenUznm"
      },
      "id": "kw-XbaenUznm"
    },
    {
      "cell_type": "code",
      "source": [
        "from IPython.display import display, Math\n",
        "\n",
        "display(Math(r\"\\min\\left(\\sum_{t \\in T} \\sum_{(i,j)} c \\cdot d_{ij} \\cdot x_{tij} \\right)\"))\n"
      ],
      "metadata": {
        "colab": {
          "base_uri": "https://localhost:8080/",
          "height": 78
        },
        "id": "yroWFwqlVu0x",
        "outputId": "c660db39-5313-4b50-86c6-12a250dde067"
      },
      "id": "yroWFwqlVu0x",
      "execution_count": 2,
      "outputs": [
        {
          "output_type": "display_data",
          "data": {
            "text/plain": [
              "<IPython.core.display.Math object>"
            ],
            "text/latex": "$\\displaystyle \\min\\left(\\sum_{t \\in T} \\sum_{(i,j)} c \\cdot d_{ij} \\cdot x_{tij} \\right)$"
          },
          "metadata": {}
        }
      ]
    }
  ],
  "metadata": {
    "colab": {
      "provenance": []
    },
    "language_info": {
      "name": "python"
    },
    "kernelspec": {
      "name": "python3",
      "display_name": "Python 3"
    }
  },
  "nbformat": 4,
  "nbformat_minor": 5
}