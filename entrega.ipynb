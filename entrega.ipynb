{
 "cells": [
  {
   "cell_type": "markdown",
   "id": "ngjQ1Z2vjgJs",
   "metadata": {
    "id": "ngjQ1Z2vjgJs"
   },
   "source": [
    "# Proyecto A: Optimización en la Planeación de Transporte Vehicular Urbana Para LogistiCo"
   ]
  },
  {
   "cell_type": "markdown",
   "id": "N9xd3qVYjoTW",
   "metadata": {
    "id": "N9xd3qVYjoTW"
   },
   "source": [
    "## Integrantes\n",
    "\n",
    "- Barrera Toro, Javier Steven\n",
    "- Borbon Holguin, Luis Alfredo\n",
    "- Rolon Toloza, Julian Santiago"
   ]
  },
  {
   "cell_type": "markdown",
   "id": "_UxEuEHAjiTh",
   "metadata": {
    "id": "_UxEuEHAjiTh"
   },
   "source": [
    "## 1.  Formulación Matemática del Modelo"
   ]
  },
  {
   "cell_type": "markdown",
   "id": "LmsPTW6Ljyu8",
   "metadata": {
    "id": "LmsPTW6Ljyu8"
   },
   "source": [
    "### 1.1. Definición de Conjuntos"
   ]
  },
  {
   "cell_type": "markdown",
   "id": "VjHPht6oj_yY",
   "metadata": {
    "id": "VjHPht6oj_yY"
   },
   "source": [
    "- C: Conjunto de centros de distribución:\n",
    "\n",
    "$$C = \\{C1, C2, C3\\}$$\n",
    "- Z: Conjunto de zonas de entrega.\n",
    "\n",
    "$$Z = \\{Z1, Z2, Z3\\}$$\n",
    "- N Conjunto de todos los nodos.\n",
    "\n",
    "$$N = C \\cup Z$$\n",
    "- T: Conjunto de vehículos disponibles.\n",
    "\n",
    "$$ T = \\{T1, T2, T3\\} $$\n",
    "- R: Conjunto de rutas posibles entre nodos, definidos por:\n",
    "\n",
    "$$ R = \\{(i, j) ∈ N × N | i ̸= j\\} $$ "
   ]
  },
  {
   "cell_type": "markdown",
   "id": "1BEO-xfrlEeu",
   "metadata": {
    "id": "1BEO-xfrlEeu"
   },
   "source": [
    "### 1.2. Definición de parametros:"
   ]
  },
  {
   "cell_type": "markdown",
   "id": "09c0b47e-4bc6-494a-925c-634eb1e74de5",
   "metadata": {},
   "source": [
    "TODO: Agregar justificación."
   ]
  },
  {
   "cell_type": "markdown",
   "id": "2101d4d8-329c-48eb-bc63-270813e9e73b",
   "metadata": {},
   "source": [
    "https://www.motor.com.co/actualidad/Nueva-alza-en-la-gasolina-en-Colombia-aumento-95-pesos-en-febrero-2025-20250203-0002.html\n",
    "\n",
    "https://cabify.com/co/tarifas/bogota#p-envios"
   ]
  },
  {
   "cell_type": "markdown",
   "id": "7LV7E19GlN44",
   "metadata": {
    "id": "7LV7E19GlN44"
   },
   "source": [
    "Los costos que se asumen constantes durante todo el proceso son los siguientes. \n",
    "\n",
    "- Costo de mantenimiento ($M$): \\$600 por km.\n",
    "- Precio del combustible ($G$): \\$4.145 por km.\n",
    "- Tarifa del servicio ($P$): \\$600 por km\n",
    "- Consumo del combustible: 0,1 litros por km. Lo que significa 0,1 * G = 0,1*$15.000 = 1,500$\n",
    "- Costo total por km = M+G+1.500"
   ]
  },
  {
   "cell_type": "markdown",
   "id": "TtPM40VssgBf",
   "metadata": {
    "id": "TtPM40VssgBf"
   },
   "source": [
    "### 1.3. Variables de decision:"
   ]
  },
  {
   "cell_type": "markdown",
   "id": "d49bb557-fd5e-4b43-a96b-a0e3f97ce6e3",
   "metadata": {},
   "source": [
    "1. Distancia $d_{ij}$: Es la distancia en kilometros de los nodos i y j.\n",
    "\n",
    "2. Demanda $s_j$ representa la demanda en unidades del cliente j.\n",
    "\n",
    "sj= 50 si j=Z1\n",
    "sj= 65 si j=Z3\n",
    "sj= 80 si j=Z2\n",
    "sj=0 en los centros de distribucion (Z)\n",
    "\n",
    "3. Stock: Disponibilidad del inventario en el centro de distribucion C.\n",
    "\n",
    "DC1 = 20000\n",
    "DC2 = 50000\n",
    "DC3 = 30000\n",
    "\n",
    "5. Capacidad en el trasporte: Corresponde a la capacidad maxima que tienen los vehiculos para transportar unidades.\n",
    "\n",
    "CV1=100\n",
    "CV2=80\n",
    "CV3=150\n"
   ]
  },
  {
   "cell_type": "markdown",
   "id": "er5Pmi8tsi7o",
   "metadata": {
    "id": "er5Pmi8tsi7o"
   },
   "source": [
    "1. Ruta ($X_{tij}$) : Variable binaria, si vale 1 si el vehículo t ∈ T viaja directamente del nodo i al nodo j, y 0 en caso contrario.\n",
    "2. Cantidad de inventario: Cantidad de unidades transportado por el vehículo t en el arco (i, j).\n",
    "3. Deposito: Variables binarias, en las cuales 1 representa  si el vehículo t inicia en el deposito, y 0 de lo contrario.\n"
   ]
  },
  {
   "cell_type": "markdown",
   "id": "Pi6fyDz1t6LC",
   "metadata": {
    "id": "Pi6fyDz1t6LC"
   },
   "source": [
    "### 1.4. Restricciones"
   ]
  },
  {
   "cell_type": "markdown",
   "id": "2efe1f25-a23c-4cf1-8c2b-86436e2a7fb5",
   "metadata": {},
   "source": [
    "**TODO** Cambiar 3 para que se parezca a la 5. Eliminación de subtours del problema de TSP. 8 revisarla en detalle, pero dijo que no valia."
   ]
  },
  {
   "cell_type": "markdown",
   "id": "yyGj1CyTuF9Y",
   "metadata": {
    "id": "yyGj1CyTuF9Y"
   },
   "source": [
    "1. Visita de los clientes: Se debe garantizar que se visitan a los clientes al menos una vez en recorrido.\n",
    "$$\n",
    "\\sum_{t \\in T} \\sum_{\\substack{i \\in N }} x_{tij} = 1\n",
    "$$\n",
    "\n",
    "2. Flujos en nodos: Se debe garantizar la demanda de las rutas que pasen por los clientes\n",
    "$$\n",
    "\\sum_{\\substack{i \\in N}} f_{tij}\n",
    "- \\sum_{\\substack{k \\in N }} f_{tjk}\n",
    "= s_j \\sum_{\\substack{i \\in N}} x_{tij}\n",
    "$$\n",
    "\n",
    "\n",
    "3. Ruta: La capacidad del inventario en el arco (i, j) no puede superar la capacidad del vehiculo que tiene el recorrido:\n",
    "$$\n",
    "f_{tij} \\leq \\text{capacidad}_t \\, x_{tij}\n",
    "$$\n",
    "\n",
    "4. Demanda operativa: Cantidad de unidades desde el centro de distribucón no puede superar el stock disponible:\n",
    "\n",
    "$$\n",
    "\\sum_{t \\in } \\sum_{\\substack{j \\in N}} f_{tdj} \\leq s_d\n",
    "$$\n",
    "\n",
    "5. Rango: La distancia total recorrida por cada transporte no puede exceder su rango operativo:\n",
    "\n",
    "$$\n",
    "\\sum d_{ij} \\, x_{tij} \\leq r_v\n",
    "$$\n",
    "\n",
    "6. Asignacion de inicio y fin: Cada transporte debe iniciar y terminar su recorrido:\n",
    "$$\n",
    "\\sum_{} \\text{inicio}_{td} \\leq 1 ,\n",
    "\\qquad \\sum_{} \\text{fin}_{td} \\leq 1\n",
    "$$\n",
    "7. Asignacion de dispositivo y ruta: Se debe garantizar que la elección del deposito este vinculada a la ruta:\n",
    "$$\n",
    "\\sum_{\\substack{j \\in N}} x_{tdj} = \\text{inicio}_{td} \\\\\n",
    "\\sum_{\\substack{i \\in N}} x_{vid} = \\text{fin}_{td}\n",
    "$$\n",
    "8. Asignacion de vehiculo y demanda: La demanda total atendida no puede superar su capacidad, y solo si efectivamente inicia su ruta desde algún depósito.\n",
    "$$\n",
    "\\sum_{} s \\left( \\sum_{\\substack{i \\in N}} x_{ti} \\right)\n",
    "\\leq \\text{capacidad}_t \\left( \\sum_{} \\text{inicio}_{td} \\right)\n",
    "$$"
   ]
  },
  {
   "cell_type": "markdown",
   "id": "N_4drXLKUcaD",
   "metadata": {
    "id": "N_4drXLKUcaD"
   },
   "source": [
    "## 2. Función Objetivo y Proceso de indagación"
   ]
  },
  {
   "cell_type": "markdown",
   "id": "kw-XbaenUznm",
   "metadata": {
    "id": "kw-XbaenUznm"
   },
   "source": [
    "Para definir esta función objetivo, se llevó a cabo un análisis relacionado con la optimización de rutas y problemas logísticos. La formulación se diseñó con el objetivo de reducir al máximo los costos de transporte, los cuales están determinados por la distancia que se recorre y los costos operativos como tarifas de flete, mantenimiento y consumo de combustible.\n",
    "El propósito es reducir al mínimo el costo total de transporte. Este costo se calcula teniendo en cuenta el valor por kilómetro recorrido, multiplicado por la distancia total que recorre cada vehículo en los trayectos seleccionados."
   ]
  },
  {
   "cell_type": "markdown",
   "id": "71c6237e-a58e-4c7a-8be5-5194d29acea7",
   "metadata": {},
   "source": [
    "La función objetivo está definida como:\n",
    "\n",
    "$$\n",
    "\\min\\left(\\sum_{t \\in T} \\sum_{(i,j) \\in R} c_{ij} \\cdot d_{ij} \\cdot x_{tij} \\right)\n",
    "$$"
   ]
  },
  {
   "cell_type": "markdown",
   "id": "1a9076d0-75d3-41b8-9ce1-24edbf152c54",
   "metadata": {},
   "source": [
    "## 3. Preprocesamiento de datos y análisis"
   ]
  },
  {
   "cell_type": "markdown",
   "id": "ab1ac159-589d-4b90-859e-3c43906b3868",
   "metadata": {},
   "source": [
    "**TODO** Convertir los datos de LAT, LONG a tiempo."
   ]
  },
  {
   "cell_type": "markdown",
   "id": "67ddde13-1b66-46ff-a3a5-d020a45aaca6",
   "metadata": {},
   "source": [
    "## 4. Ejemplos ilustrativos"
   ]
  },
  {
   "cell_type": "markdown",
   "id": "13dfc41c-53d8-4f94-9ad7-b13ac4f0e39f",
   "metadata": {},
   "source": [
    "**TODO**: Que se cumplan todas y otro ejemplo en el que una restricción no se cumpla."
   ]
  },
  {
   "cell_type": "markdown",
   "id": "c99f220d-ad90-4700-8d8c-8db1c317aafc",
   "metadata": {},
   "source": [
    "## 5. Justificación y discusión"
   ]
  },
  {
   "cell_type": "markdown",
   "id": "69245230-0459-493e-baa1-d2c60142fd01",
   "metadata": {},
   "source": [
    "**TODO**: Suposiciones que hay que hacer al modelo para simplificarlo. "
   ]
  }
 ],
 "metadata": {
  "colab": {
   "provenance": []
  },
  "kernelspec": {
   "display_name": "Python 3 (ipykernel)",
   "language": "python",
   "name": "python3"
  },
  "language_info": {
   "codemirror_mode": {
    "name": "ipython",
    "version": 3
   },
   "file_extension": ".py",
   "mimetype": "text/x-python",
   "name": "python",
   "nbconvert_exporter": "python",
   "pygments_lexer": "ipython3",
   "version": "3.9.21"
  }
 },
 "nbformat": 4,
 "nbformat_minor": 5
}
